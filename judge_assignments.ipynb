{
 "cells": [
  {
   "cell_type": "code",
   "execution_count": 23,
   "metadata": {},
   "outputs": [],
   "source": [
    "import math\n",
    "import random\n",
    "import pandas as pd"
   ]
  },
  {
   "cell_type": "code",
   "execution_count": 24,
   "metadata": {},
   "outputs": [],
   "source": [
    "# Number of times each team wants to be judged\n",
    "x = 5  "
   ]
  },
  {
   "cell_type": "code",
   "execution_count": 25,
   "metadata": {},
   "outputs": [],
   "source": [
    "# read in a csv for team names (teamName, tableNumber)\n",
    "teams = pd.read_csv('teams.csv')\n",
    "num_teams = len(teams)\n",
    "\n",
    "# read in a csv for judges (judgeFirstName, judgeLastName)\n",
    "judges = pd.read_csv('judges.csv')\n",
    "num_judges = len(judges)\n"
   ]
  },
  {
   "cell_type": "code",
   "execution_count": 26,
   "metadata": {},
   "outputs": [],
   "source": [
    "# Calculate judges per batch\n",
    "judges_per_batch = num_judges // x\n",
    "\n",
    "# Calculate teams per judge\n",
    "teams_per_judge = math.ceil(num_teams / judges_per_batch)\n",
    "\n",
    "# Calculate total slots needed\n",
    "total_slots = judges_per_batch * teams_per_judge\n",
    "\n",
    "# Calculate number of empty slots\n",
    "num_remaining_teams = num_teams - ((teams_per_judge - 1) * judges_per_batch)\n",
    "\n",
    "# Create an empty assignment matrix\n",
    "assignments = []\n",
    "\n",
    "\n",
    "# Assign teams to judges in batches\n",
    "for _ in range(x):\n",
    "    team_numbers = list(range(1, num_teams + 1))\n",
    "    random.shuffle(team_numbers)\n",
    "    n = num_remaining_teams\n",
    "    for _ in range(judges_per_batch):\n",
    "        slot = []\n",
    "        for i in range(teams_per_judge):\n",
    "            if i != teams_per_judge - 1:\n",
    "                slot.append(team_numbers.pop(0))\n",
    "            else:\n",
    "                if n > 0:\n",
    "                    slot.append(team_numbers.pop(0))\n",
    "                    n -= 1\n",
    "            \n",
    "        assignments.append(slot)\n",
    "\n",
    "# calculate how many judges were not included\n",
    "not_assigned = num_judges - len(assignments)\n",
    "\n",
    "for i in range(not_assigned):\n",
    "    slot = []\n",
    "    for j in range(teams_per_judge - 1):\n",
    "        # find the judge with the most teams\n",
    "        max_team_index = assignments.index(max(assignments, key=len))\n",
    "        # take a random team from the judge with the most teams\n",
    "        team = random.choice(assignments[max_team_index])\n",
    "\n",
    "        satisfied = False\n",
    "        while not satisfied:\n",
    "            # check if this team is already assigned to the current judge\n",
    "            if team not in slot:\n",
    "                slot.append(team)\n",
    "                # remove the team from the judge with the most teams\n",
    "                assignments[max_team_index].remove(team)\n",
    "                # assignments[max_team_index].append(-1)\n",
    "              \n",
    "                satisfied = True\n",
    "            else:\n",
    "                team = random.choice(assignments[max_team_index])\n",
    "\n",
    "    assignments.append(slot)            \n",
    "\n",
    "\n",
    "# Create a Pandas DataFrame\n",
    "df = pd.DataFrame(assignments)\n",
    "df.index.name = 'Judge'\n",
    "\n",
    "# replace NaN with -1\n",
    "df = df.fillna(-1)\n",
    "\n",
    "# make all int\n",
    "df = df.astype(int)\n",
    "\n",
    "# find the most teams a judge has\n",
    "max_teams = df.apply(lambda x: x[x != -1].count(), axis=1).max()\n",
    "\n",
    "df.columns = [f'Slot {i+1}' for i in range(max_teams)]\n",
    "\n",
    "# replace the team numbers with team names and table numbers\n",
    "for i in range(max_teams):\n",
    "    df[f'Slot {i+1}'] = df[f'Slot {i+1}'].apply(lambda x: f'{teams.loc[x-1, \"teamName\"]} (Table {teams.loc[x-1, \"tableNumber\"]})' if x != -1 else 'No team for this time slot')\n",
    "\n",
    "# add a column on the left called judge id, starting from 1001\n",
    "df.insert(0, 'Judge ID', range(1001, 1001 + len(df)))\n",
    "\n",
    "# replace the judge numbers with judge names\n",
    "df.index = df.index.map(lambda x: f'{judges.loc[x, \"judgeFirstName\"]} {judges.loc[x, \"judgeLastName\"]}')\n",
    "\n",
    "df"
   ]
  },
  {
   "cell_type": "code",
   "execution_count": 28,
   "metadata": {},
   "outputs": [],
   "source": [
    "# Save the DataFrame to a CSV file\n",
    "df.to_csv('assignments.csv')"
   ]
  }
 ],
 "metadata": {
  "kernelspec": {
   "display_name": "3.11.0",
   "language": "python",
   "name": "python3"
  },
  "language_info": {
   "codemirror_mode": {
    "name": "ipython",
    "version": 3
   },
   "file_extension": ".py",
   "mimetype": "text/x-python",
   "name": "python",
   "nbconvert_exporter": "python",
   "pygments_lexer": "ipython3",
   "version": "3.11.0"
  }
 },
 "nbformat": 4,
 "nbformat_minor": 2
}
