{
 "cells": [
  {
   "cell_type": "code",
   "execution_count": null,
   "metadata": {},
   "outputs": [],
   "source": [
    "import pandas as pd"
   ]
  },
  {
   "cell_type": "code",
   "execution_count": null,
   "metadata": {},
   "outputs": [],
   "source": [
    "\n",
    "# Load the data\n",
    "points = pd.read_csv('points.csv')\n",
    "teams = pd.read_csv('teams.csv')\n",
    "\n",
    "# Standardize the points for each judge\n",
    "points['standardizedPoints'] = points.groupby('judgeNumber')['points'].transform(\n",
    "    lambda x: (x - x.mean()) / x.std()\n",
    ")\n",
    "\n",
    "# Group by tableNumber, calculate the average standardized points and count how many judges saw each team\n",
    "points_grouped = points.groupby('tableNumber').agg(\n",
    "    standardizedPoints=('standardizedPoints', 'mean'),\n",
    "    judgeCount=('judgeNumber', 'nunique')  # Count the unique judges\n",
    ").reset_index()\n",
    "\n",
    "# Sort by points in ascending order\n",
    "sorted_points = points_grouped.sort_values(by='standardizedPoints', ascending=False)\n",
    "\n",
    "# Add in the team names\n",
    "# Assuming 'teams' is another DataFrame with a 'teamName' column and an index corresponding to 'tableNumber'\n",
    "sorted_points = sorted_points.merge(teams[['tableNumber', 'teamName']], on='tableNumber', how='left')\n",
    "\n",
    "# Reset the index\n",
    "sorted_points = sorted_points.reset_index(drop=True)\n",
    "\n",
    "# Display the final sorted DataFrame\n",
    "sorted_points\n"
   ]
  },
  {
   "cell_type": "code",
   "execution_count": null,
   "metadata": {},
   "outputs": [],
   "source": [
    "# save the sorted points to a csv\n",
    "sorted_points.to_csv('aggregated_and_sorted_points.csv')"
   ]
  }
 ],
 "metadata": {
  "language_info": {
   "name": "python"
  }
 },
 "nbformat": 4,
 "nbformat_minor": 2
}
